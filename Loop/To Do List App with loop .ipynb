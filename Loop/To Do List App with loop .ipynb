{
 "cells": [
  {
   "cell_type": "code",
   "execution_count": 1,
   "id": "00feee07-1fed-4a3d-9c72-e4c72ed95c3d",
   "metadata": {},
   "outputs": [
    {
     "name": "stdout",
     "output_type": "stream",
     "text": [
      "\n",
      "Options:\n",
      "1. Add Task\n",
      "2. Remove Task\n",
      "3. Mark Task as Completed\n",
      "4. Display Tasks\n",
      "5. Exit\n"
     ]
    },
    {
     "name": "stdin",
     "output_type": "stream",
     "text": [
      "Enter your choice:  1\n",
      "Enter task:  playing cricket\n"
     ]
    },
    {
     "name": "stdout",
     "output_type": "stream",
     "text": [
      "Task added.\n",
      "\n",
      "Options:\n",
      "1. Add Task\n",
      "2. Remove Task\n",
      "3. Mark Task as Completed\n",
      "4. Display Tasks\n",
      "5. Exit\n"
     ]
    },
    {
     "name": "stdin",
     "output_type": "stream",
     "text": [
      "Enter your choice:  4\n"
     ]
    },
    {
     "name": "stdout",
     "output_type": "stream",
     "text": [
      "playing cricket\n",
      "\n",
      "Options:\n",
      "1. Add Task\n",
      "2. Remove Task\n",
      "3. Mark Task as Completed\n",
      "4. Display Tasks\n",
      "5. Exit\n"
     ]
    },
    {
     "name": "stdin",
     "output_type": "stream",
     "text": [
      "Enter your choice:  5\n"
     ]
    },
    {
     "name": "stdout",
     "output_type": "stream",
     "text": [
      "Exiting...\n"
     ]
    }
   ],
   "source": [
    "tasks = []\n",
    "\n",
    "def add_task(task):\n",
    "    if task not in tasks:\n",
    "        tasks.append(task)\n",
    "        print(\"Task added.\")\n",
    "    else:\n",
    "        print(\"Task already exists.\")\n",
    "\n",
    "def remove_task(task):\n",
    "    if task in tasks:\n",
    "        tasks.remove(task)\n",
    "        print(\"Task removed.\")\n",
    "    else:\n",
    "        print(\"Task not found.\")\n",
    "\n",
    "def mark_completed(task):\n",
    "    if task in tasks:\n",
    "        tasks[tasks.index(task)] += \" (completed)\"\n",
    "        print(\"Task marked as completed.\")\n",
    "    else:\n",
    "        print(\"Task not found.\")\n",
    "\n",
    "def display_tasks():\n",
    "    if tasks:\n",
    "        for task in tasks:\n",
    "            print(task)\n",
    "    else:\n",
    "        print(\"No tasks to display.\")\n",
    "\n",
    "def to_do_list():\n",
    "    while True:\n",
    "        print(\"\\nOptions:\")\n",
    "        print(\"1. Add Task\")\n",
    "        print(\"2. Remove Task\")\n",
    "        print(\"3. Mark Task as Completed\")\n",
    "        print(\"4. Display Tasks\")\n",
    "        print(\"5. Exit\")\n",
    "        \n",
    "        choice = input(\"Enter your choice: \")\n",
    "\n",
    "        if choice == '1':\n",
    "            task = input(\"Enter task: \")\n",
    "            add_task(task)\n",
    "        elif choice == '2':\n",
    "            task = input(\"Enter task to remove: \")\n",
    "            remove_task(task)\n",
    "        elif choice == '3':\n",
    "            task = input(\"Enter task to mark as completed: \")\n",
    "            mark_completed(task)\n",
    "        elif choice == '4':\n",
    "            display_tasks()\n",
    "        elif choice == '5':\n",
    "            print(\"Exiting...\")\n",
    "            break\n",
    "        else:\n",
    "            print(\"Invalid input. Please enter a number between 1 and 5.\")\n",
    "\n",
    "if __name__ == \"__main__\":\n",
    "    to_do_list()\n"
   ]
  },
  {
   "cell_type": "code",
   "execution_count": null,
   "id": "b757c377-d803-460e-a83c-bcc284244ed4",
   "metadata": {},
   "outputs": [],
   "source": []
  }
 ],
 "metadata": {
  "kernelspec": {
   "display_name": "Python 3 (ipykernel)",
   "language": "python",
   "name": "python3"
  },
  "language_info": {
   "codemirror_mode": {
    "name": "ipython",
    "version": 3
   },
   "file_extension": ".py",
   "mimetype": "text/x-python",
   "name": "python",
   "nbconvert_exporter": "python",
   "pygments_lexer": "ipython3",
   "version": "3.12.4"
  }
 },
 "nbformat": 4,
 "nbformat_minor": 5
}
