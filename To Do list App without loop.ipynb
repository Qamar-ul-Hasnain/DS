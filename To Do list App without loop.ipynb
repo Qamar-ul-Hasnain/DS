{
 "cells": [
  {
   "cell_type": "code",
   "execution_count": null,
   "id": "32bd004b-d44f-45be-a331-75b67205bbc4",
   "metadata": {},
   "outputs": [
    {
     "name": "stdout",
     "output_type": "stream",
     "text": [
      "\n",
      "Options:\n",
      "1. Add Task\n",
      "2. Remove Task\n",
      "3. Mark Task as Completed\n",
      "4. Display Tasks\n",
      "5. Exit\n"
     ]
    },
    {
     "name": "stdin",
     "output_type": "stream",
     "text": [
      "Enter your choice:  1\n",
      "Enter task:  cricket \n"
     ]
    },
    {
     "name": "stdout",
     "output_type": "stream",
     "text": [
      "Task added.\n",
      "\n",
      "Options:\n",
      "1. Add Task\n",
      "2. Remove Task\n",
      "3. Mark Task as Completed\n",
      "4. Display Tasks\n",
      "5. Exit\n"
     ]
    }
   ],
   "source": [
    "# Initialize the tasks list\n",
    "tasks = []\n",
    "\n",
    "def add_task(task):\n",
    "    if task not in tasks:\n",
    "        tasks.append(task)\n",
    "        print(\"Task added.\")\n",
    "    else:\n",
    "        print(\"Task already exists.\")\n",
    "\n",
    "def remove_task(task):\n",
    "    if task in tasks:\n",
    "        tasks.remove(task)\n",
    "        print(\"Task removed.\")\n",
    "    else:\n",
    "        print(\"Task not found.\")\n",
    "\n",
    "def mark_completed(task):\n",
    "    if task in tasks:\n",
    "        tasks[tasks.index(task)] += \" (completed)\"\n",
    "        print(\"Task marked as completed.\")\n",
    "    else:\n",
    "        print(\"Task not found.\")\n",
    "\n",
    "def display_task(index):\n",
    "    if index < len(tasks):\n",
    "        print(tasks[index])\n",
    "        display_task(index + 1)\n",
    "\n",
    "def display_tasks():\n",
    "    if tasks:\n",
    "        display_task(0)\n",
    "    else:\n",
    "        print(\"No tasks to display.\")\n",
    "\n",
    "def handle_choice(choice):\n",
    "    if choice == '1':\n",
    "        task = input(\"Enter task: \")\n",
    "        add_task(task)\n",
    "    elif choice == '2':\n",
    "        task = input(\"Enter task to remove: \")\n",
    "        remove_task(task)\n",
    "    elif choice == '3':\n",
    "        task = input(\"Enter task to mark as completed: \")\n",
    "        mark_completed(task)\n",
    "    elif choice == '4':\n",
    "        display_tasks()\n",
    "    elif choice == '5':\n",
    "        print(\"Exiting...\")\n",
    "        return\n",
    "    else:\n",
    "        print(\"Invalid input. Please enter a number between 1 and 5.\")\n",
    "    \n",
    "    # Recursively call to_do_list() \n",
    "    to_do_list()\n",
    "\n",
    "def to_do_list():\n",
    "    print(\"\\nOptions:\")\n",
    "    print(\"1. Add Task\")\n",
    "    print(\"2. Remove Task\")\n",
    "    print(\"3. Mark Task as Completed\")\n",
    "    print(\"4. Display Tasks\")\n",
    "    print(\"5. Exit\")\n",
    "    \n",
    "    choice = input(\"Enter your choice: \")\n",
    "    handle_choice(choice)\n",
    "\n",
    "if __name__ == \"__main__\":\n",
    "    to_do_list()\n"
   ]
  },
  {
   "cell_type": "code",
   "execution_count": null,
   "id": "fad4cdae-fe68-4f5d-8b52-075d736b3e60",
   "metadata": {},
   "outputs": [],
   "source": []
  }
 ],
 "metadata": {
  "kernelspec": {
   "display_name": "Python 3 (ipykernel)",
   "language": "python",
   "name": "python3"
  },
  "language_info": {
   "codemirror_mode": {
    "name": "ipython",
    "version": 3
   },
   "file_extension": ".py",
   "mimetype": "text/x-python",
   "name": "python",
   "nbconvert_exporter": "python",
   "pygments_lexer": "ipython3",
   "version": "3.12.4"
  }
 },
 "nbformat": 4,
 "nbformat_minor": 5
}
